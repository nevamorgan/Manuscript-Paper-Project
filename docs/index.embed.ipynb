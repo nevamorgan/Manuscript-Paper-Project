{
 "cells": [
  {
   "cell_type": "markdown",
   "metadata": {},
   "source": [
    "# Flight in Flux\n",
    "\n",
    "Neva Morgan (Colorado State University)  \n",
    "Mia Colangelo (Colorado State University)\n",
    "\n",
    "# **Flight in Flux:** Analyzing American Bittern (Botaurus lentiginosus) Migration Timing and Climate Change\n",
    "\n",
    "### **Introduction:**\n",
    "\n",
    "Climate change poses many questions relating to systems across the globe, especially ecological and evolutionary systems. One system which could potentially be heavily impacted is migration. Bird migration timing is critical for ensuring species survival and ecological balance. As anthropogenic climate change has altered seasonal patterns, there is a potential disruption to migration timing, impacting birds’ breeding success, food availability, and overall population health. Wetland birds are expected to be affected negatively by a considerable margin with the presence of a changing climate altering their regular migratory ranges and patterns (Steen et al., 2012). The American Bittern (Botaurus lentiginosus), for example, depends on the thriving vegetation of marshlands for camouflage and nesting, as they are known to nest on the ground.\n",
    "\n",
    "Bird migration range and timing is critical for ensuring species survival and ecological balance. However, climate change has altered seasonal patterns, potentially disrupting migration timing and impacting breeding success, food availability, and overall population health. Understanding these shifts can inform conservation strategies and mitigate risks to migratory bird species. Additionally, information gained from analyzing one species can be used to make inferences about the potential shifts in other similar species.\n",
    "\n",
    "### **Abstract:**\n",
    "\n",
    "The American Bittern is a solitary, cryptic species that relies on wetlands for breeding and overwintering. Typically, these birds breed in freshwater marshes across Canada and the northern United States before migrating south to the southeastern U.S., Mexico, and Central America for the winter. However, increasing global temperatures, shifts in precipitation, and habitat loss due to climate change threaten to disrupt these migration patterns. These changes are affecting not only local species, but also have the potential to shift patterns thousands of miles away (Smith 2022)  \n",
    "Past studies on migratory birds indicate that climate change is leading to earlier spring arrivals, delayed fall departures, and shifts in overall migration routes (La Sorte & Thompson, 2007). Additional research has shown that for some birds, more severe dry seasons can decrease survival rates for the following migration (Georgetown 2023). For wetland-dependent birds like the American Bittern, changes in water levels due to altered precipitation cycles could further complicate their ability to find suitable stopover sites and breeding grounds. Given that wetlands are already among the most threatened ecosystems in North America, with significant losses due to urbanization and agriculture, climate-induced changes pose an additional challenge (Dahl, 2011). Changes such as rising water levels impact marshlands and wetlands especially, and while the birds inhabiting them are not typically listed as endangered, these changes put them at risk for habitat loss (Gieger 2023) Studying the migration patterns of the American Bittern under a changing climate is essential for predicting future population trends and informing conservation strategies. By understanding how climate variables influence their movements, conservationists can prioritize habitat protection, restoration, and adaptive management to mitigate potential negative impacts.\n",
    "\n",
    "### **Data:**\n",
    "\n",
    "#### Climate Data Online (NOAA Global Summary of the Month - U.S. Specific):\n",
    "\n",
    "With NOAA’s Climate Data Online search, we focused on nine weather stations located between Arizona (two weather stations: Phoenix and Kingsman), California (three weather stations: Lake Tahoe, San Diego, and Santa Rosa), Oregon (two weather stations: Chiloquin and Hermiston), and Washington (two weather stations Shelton and Spokane), to map multiple points of migratory status for the American Bittern. The files were requested through eBird, and then downloaded into a readable CSV for Excel to initially portion the data into the portions necessary for our analysis. Each weather station collected data that contained the specific information for the weather station, temperature, precipitation, and wind-related metrics (of which are negligible for our testing metrics).\n",
    "\n",
    "Variables within the Datasets contain:\n",
    "\n",
    "-   Metadata: Station name (NAME), location (LATITUDE, LONGITUDE, ELEVATION), and observation date (DATE)\n",
    "\n",
    "-   Climate Variables: Includes average and extreme temperatures (e.g., ADPT, ASLP, AWBT), precipitation statistics (e.g., DP01, DP10), and wind metrics (AWND)\n",
    "\n",
    "-   Attributes and Flags: Columns such as \\*\\_ATTRIBUTES and logical flags provide metadata on data quality and source\n",
    "\n",
    "-   Format: Character (station info and attribute flags), numeric (climate measures), and logical (indicator variables)\n",
    "\n",
    "#### American Bittern - eBird Data:\n",
    "\n",
    "This dataset was sourced from eBird and includes observations of American Bitterns (Botaurus lentiginosus) reported by citizen scientists. The dataset spans from 2000 to 2024 and includes over 70,000 observations.\n",
    "\n",
    "-   Geographic Coverage: Arizona, California, Oregon, and Washington within the U.S.\n",
    "\n",
    "-   Metadata: Observation Date Time Observations Started Latitude Longitude\n",
    "\n",
    "-   Bird Details: Observation Count Breeding Code Behavior Code\n",
    "\n",
    "-   Format: Primarily character and logical columns, with a few numeric fields (e.g., coordinates, observer count)\n",
    "\n",
    "### **Methods**\n",
    "\n",
    "To examine the effects climate change will have on the migratory timing of the American Bittern, we used a monthly summary of climate data from nine recorded NOAA weather stations within Arizona, California, Oregon, and Washington and observational data of their abundance within those states from eBird.\n",
    "\n",
    "#### Data Acquiring:\n",
    "\n",
    "Climate data within nine weather stations stretched between Arizona, California, Oregon, and Washington by NOAA Global Monthly Summaries, were recorded on a scale between 1947-2025. By using ‘R’ resources, we cleaned this data, removing unnecessary attributes for our study, converting units to be consistent throughout each dataset, and removing unnecessary data from past years to focus on data between 2000-2024.\n",
    "\n",
    "#### Data Processing / Seasonal Aggregation:\n",
    "\n",
    "Each weather station recorded the seasonal averages of temperature and precipitation, which were then manipulated into a cleaned version of that data, removing unnecessary wind records. With that, we created a list item, using ‘RStudio’, that combined the contents of the dataframes, to join them all together, ensuring columns and the contents of the dataframes are not duplicated or N/Aed. We then integrated a seasonal component into the data denoted by month: Winter = 12 (Dec.), 1 (Jan.), 2 (Feb.); Spring = 3 (Mar.), 4 (Apr.), 5 (May); Summer = 6 (Jun.), 7 (Jul.), 8 (Aug.); and Fall = 9 (Sep.), 10 (Oct.), 11 (Nov.). The seasonal component was also applied to the American Bittern migration dataframe, which was later converted to a tibble for later analysis.\n",
    "\n",
    "#### Migratory Timing Analysis of American Bittern:\n",
    "\n",
    "Observational data was provided to understand the timing of Bitterns within our four selected states, by grouping month and year to understand temporal patterns of their appearance based on the seasonal presence. Using a time series visualization to detect changes within the migratory patterns based on their seasonality between 2000 and 2024.\n",
    "\n",
    "#### Comparing Seasonal Trends of Climate Variability and Bittern Observation:\n",
    "\n",
    "To understand the correlation between seasonal changes for all the weather stations, we averaged the temperature and precipitation of each month per year. We then evaluated the long-term changes in bittern observation from plot layouts used before, by visually plotting the changes in the presence of climate seasonality.\n",
    "\n",
    "To evaluate the influence of climate variability on American Bittern observations from 2000 to 2024, we fit a linear mixed effects model using the lmer function from the lme4 package in R. The response variable was the count of observations per year and state. Fixed effects included average temperature (avg_temp) and average precipitation (avg_precp), representing climatic conditions. To account for non-independence among observations across years and states, we included season year and state indicators (AZ, CA, OR, and WA) as random intercepts. This approach allowed us to control for unobserved heterogeneity due to temporal and spatial variation, isolating the effects of climate variables on bird observations. All data and observations were analyzed using RStudio version 2025.05.0 Build 496.\n",
    "\n",
    "### **Results:**\n",
    "\n",
    "##### Coding and Figures:"
   ],
   "id": "70475894-c8f7-413a-a54b-ceb0a3897068"
  },
  {
   "cell_type": "code",
   "execution_count": null,
   "metadata": {},
   "outputs": [
    {
     "output_type": "stream",
     "name": "stderr",
     "text": [
      "Warning: package 'flextable' was built under R version 4.4.3"
     ]
    },
    {
     "output_type": "stream",
     "name": "stderr",
     "text": [
      "Warning: package 'readr' was built under R version 4.4.3"
     ]
    },
    {
     "output_type": "stream",
     "name": "stderr",
     "text": [
      "Warning: package 'tidyverse' was built under R version 4.4.3"
     ]
    },
    {
     "output_type": "stream",
     "name": "stderr",
     "text": [
      "Warning: package 'ggplot2' was built under R version 4.4.3"
     ]
    },
    {
     "output_type": "stream",
     "name": "stderr",
     "text": [
      "Warning: package 'tidyr' was built under R version 4.4.3"
     ]
    },
    {
     "output_type": "stream",
     "name": "stderr",
     "text": [
      "Warning: package 'purrr' was built under R version 4.4.3"
     ]
    },
    {
     "output_type": "stream",
     "name": "stderr",
     "text": [
      "Warning: package 'dplyr' was built under R version 4.4.3"
     ]
    },
    {
     "output_type": "stream",
     "name": "stderr",
     "text": [
      "Warning: package 'stringr' was built under R version 4.4.3"
     ]
    },
    {
     "output_type": "stream",
     "name": "stderr",
     "text": [
      "Warning: package 'lubridate' was built under R version 4.4.3"
     ]
    },
    {
     "output_type": "stream",
     "name": "stderr",
     "text": [
      "── Attaching core tidyverse packages ──────────────────────── tidyverse 2.0.0 ──\n",
      "✔ dplyr     1.1.4     ✔ purrr     1.0.4\n",
      "✔ forcats   1.0.0     ✔ stringr   1.5.1\n",
      "✔ ggplot2   3.5.2     ✔ tibble    3.2.1\n",
      "✔ lubridate 1.9.4     ✔ tidyr     1.3.1\n",
      "── Conflicts ────────────────────────────────────────── tidyverse_conflicts() ──\n",
      "✖ purrr::compose() masks flextable::compose()\n",
      "✖ dplyr::filter()  masks stats::filter()\n",
      "✖ dplyr::lag()     masks stats::lag()\n",
      "ℹ Use the conflicted package (<http://conflicted.r-lib.org/>) to force all conflicts to become errors"
     ]
    },
    {
     "output_type": "stream",
     "name": "stderr",
     "text": [
      "Warning: package 'tidymodels' was built under R version 4.4.3"
     ]
    },
    {
     "output_type": "stream",
     "name": "stderr",
     "text": [
      "── Attaching packages ────────────────────────────────────── tidymodels 1.3.0 ──\n",
      "✔ broom        1.0.8     ✔ rsample      1.3.0\n",
      "✔ dials        1.4.0     ✔ tune         1.3.0\n",
      "✔ infer        1.0.8     ✔ workflows    1.2.0\n",
      "✔ modeldata    1.4.0     ✔ workflowsets 1.1.0\n",
      "✔ parsnip      1.3.1     ✔ yardstick    1.3.2\n",
      "✔ recipes      1.3.0     "
     ]
    },
    {
     "output_type": "stream",
     "name": "stderr",
     "text": [
      "Warning: package 'broom' was built under R version 4.4.3"
     ]
    },
    {
     "output_type": "stream",
     "name": "stderr",
     "text": [
      "Warning: package 'dials' was built under R version 4.4.3"
     ]
    },
    {
     "output_type": "stream",
     "name": "stderr",
     "text": [
      "Warning: package 'infer' was built under R version 4.4.3"
     ]
    },
    {
     "output_type": "stream",
     "name": "stderr",
     "text": [
      "Warning: package 'parsnip' was built under R version 4.4.3"
     ]
    },
    {
     "output_type": "stream",
     "name": "stderr",
     "text": [
      "Warning: package 'recipes' was built under R version 4.4.3"
     ]
    },
    {
     "output_type": "stream",
     "name": "stderr",
     "text": [
      "Warning: package 'rsample' was built under R version 4.4.3"
     ]
    },
    {
     "output_type": "stream",
     "name": "stderr",
     "text": [
      "Warning: package 'tune' was built under R version 4.4.3"
     ]
    },
    {
     "output_type": "stream",
     "name": "stderr",
     "text": [
      "Warning: package 'workflows' was built under R version 4.4.3"
     ]
    },
    {
     "output_type": "stream",
     "name": "stderr",
     "text": [
      "Warning: package 'yardstick' was built under R version 4.4.3"
     ]
    },
    {
     "output_type": "stream",
     "name": "stderr",
     "text": [
      "── Conflicts ───────────────────────────────────────── tidymodels_conflicts() ──\n",
      "✖ purrr::compose()  masks flextable::compose()\n",
      "✖ scales::discard() masks purrr::discard()\n",
      "✖ dplyr::filter()   masks stats::filter()\n",
      "✖ recipes::fixed()  masks stringr::fixed()\n",
      "✖ dplyr::lag()      masks stats::lag()\n",
      "✖ yardstick::spec() masks readr::spec()\n",
      "✖ recipes::step()   masks stats::step()"
     ]
    },
    {
     "output_type": "stream",
     "name": "stderr",
     "text": [
      "Warning: package 'gridExtra' was built under R version 4.4.3"
     ]
    },
    {
     "output_type": "stream",
     "name": "stderr",
     "text": [
      "\n",
      "Attaching package: 'gridExtra'\n",
      "\n",
      "The following object is masked from 'package:dplyr':\n",
      "\n",
      "    combine"
     ]
    },
    {
     "output_type": "stream",
     "name": "stderr",
     "text": [
      "Warning: package 'cowplot' was built under R version 4.4.3"
     ]
    },
    {
     "output_type": "stream",
     "name": "stderr",
     "text": [
      "\n",
      "Attaching package: 'cowplot'\n",
      "\n",
      "The following object is masked from 'package:lubridate':\n",
      "\n",
      "    stamp"
     ]
    }
   ],
   "source": [
    "# Beginning Mumbo Jumbo Libraries:\n",
    "\n",
    "library(flextable) "
   ],
   "id": "a64efb5b-ad17-404e-a529-27db8f38ca46"
  },
  {
   "cell_type": "markdown",
   "metadata": {},
   "source": [
    "1.  Create time period for seasons"
   ],
   "id": "6b56ea9b-8cc6-44fe-a4bd-5d99067df96e"
  },
  {
   "cell_type": "code",
   "execution_count": null,
   "metadata": {},
   "outputs": [
    {
     "output_type": "stream",
     "name": "stderr",
     "text": [
      "Rows: 345 Columns: 90\n",
      "── Column specification ────────────────────────────────────────────────────────\n",
      "Delimiter: \",\"\n",
      "chr (42): STATION, DATE, NAME, ADPT_ATTRIBUTES, ASLP_ATTRIBUTES, ASTP_ATTRIB...\n",
      "dbl (45): LATITUDE, LONGITUDE, ELEVATION, ADPT, ASLP, ASTP, AWBT, AWND, CDSD...\n",
      "lgl  (3): DYFG_ATTRIBUTES, DYHF_ATTRIBUTES, DYTS_ATTRIBUTES\n",
      "\n",
      "ℹ Use `spec()` to retrieve the full column specification for this data.\n",
      "ℹ Specify the column types or set `show_col_types = FALSE` to quiet this message."
     ]
    },
    {
     "output_type": "stream",
     "name": "stderr",
     "text": [
      "Rows: 319 Columns: 82\n",
      "── Column specification ────────────────────────────────────────────────────────\n",
      "Delimiter: \",\"\n",
      "chr (38): STATION, DATE, NAME, AWND_ATTRIBUTES, CDSD_ATTRIBUTES, CLDD_ATTRIB...\n",
      "dbl (41): LATITUDE, LONGITUDE, ELEVATION, AWND, CDSD, CLDD, DP01, DP10, DP1X...\n",
      "lgl  (3): DYFG_ATTRIBUTES, DYHF_ATTRIBUTES, DYTS_ATTRIBUTES\n",
      "\n",
      "ℹ Use `spec()` to retrieve the full column specification for this data.\n",
      "ℹ Specify the column types or set `show_col_types = FALSE` to quiet this message."
     ]
    },
    {
     "output_type": "stream",
     "name": "stderr",
     "text": [
      "Rows: 657 Columns: 96\n",
      "── Column specification ────────────────────────────────────────────────────────\n",
      "Delimiter: \",\"\n",
      "chr (45): STATION, DATE, NAME, ADPT_ATTRIBUTES, ASLP_ATTRIBUTES, ASTP_ATTRIB...\n",
      "dbl (48): LATITUDE, LONGITUDE, ELEVATION, ADPT, ASLP, ASTP, AWBT, AWND, CDSD...\n",
      "lgl  (3): DYFG_ATTRIBUTES, DYHF_ATTRIBUTES, DYTS_ATTRIBUTES\n",
      "\n",
      "ℹ Use `spec()` to retrieve the full column specification for this data.\n",
      "ℹ Specify the column types or set `show_col_types = FALSE` to quiet this message."
     ]
    },
    {
     "output_type": "stream",
     "name": "stderr",
     "text": [
      "Rows: 849 Columns: 84\n",
      "── Column specification ────────────────────────────────────────────────────────\n",
      "Delimiter: \",\"\n",
      "chr (39): STATION, DATE, NAME, AWND_ATTRIBUTES, CDSD_ATTRIBUTES, CLDD_ATTRIB...\n",
      "dbl (42): LATITUDE, LONGITUDE, ELEVATION, AWND, CDSD, CLDD, DP01, DP10, DP1X...\n",
      "lgl  (3): DYFG_ATTRIBUTES, DYHF_ATTRIBUTES, DYTS_ATTRIBUTES\n",
      "\n",
      "ℹ Use `spec()` to retrieve the full column specification for this data.\n",
      "ℹ Specify the column types or set `show_col_types = FALSE` to quiet this message."
     ]
    },
    {
     "output_type": "stream",
     "name": "stderr",
     "text": [
      "Rows: 322 Columns: 96\n",
      "── Column specification ────────────────────────────────────────────────────────\n",
      "Delimiter: \",\"\n",
      "chr (45): STATION, DATE, NAME, ADPT_ATTRIBUTES, ASLP_ATTRIBUTES, ASTP_ATTRIB...\n",
      "dbl (48): LATITUDE, LONGITUDE, ELEVATION, ADPT, ASLP, ASTP, AWBT, AWND, CDSD...\n",
      "lgl  (3): DYFG_ATTRIBUTES, DYHF_ATTRIBUTES, DYTS_ATTRIBUTES\n",
      "\n",
      "ℹ Use `spec()` to retrieve the full column specification for this data.\n",
      "ℹ Specify the column types or set `show_col_types = FALSE` to quiet this message."
     ]
    },
    {
     "output_type": "stream",
     "name": "stderr",
     "text": [
      "Rows: 511 Columns: 68\n",
      "── Column specification ────────────────────────────────────────────────────────\n",
      "Delimiter: \",\"\n",
      "chr (30): STATION, DATE, NAME, CLDD_ATTRIBUTES, DP01_ATTRIBUTES, DP10_ATTRIB...\n",
      "dbl (36): LATITUDE, LONGITUDE, ELEVATION, CDSD, CDSD_ATTRIBUTES, CLDD, DP01,...\n",
      "lgl  (2): DYFG_ATTRIBUTES, DYTS_ATTRIBUTES\n",
      "\n",
      "ℹ Use `spec()` to retrieve the full column specification for this data.\n",
      "ℹ Specify the column types or set `show_col_types = FALSE` to quiet this message."
     ]
    },
    {
     "output_type": "stream",
     "name": "stderr",
     "text": [
      "Rows: 324 Columns: 82\n",
      "── Column specification ────────────────────────────────────────────────────────\n",
      "Delimiter: \",\"\n",
      "chr (38): STATION, DATE, NAME, AWND_ATTRIBUTES, CDSD_ATTRIBUTES, CLDD_ATTRIB...\n",
      "dbl (41): LATITUDE, LONGITUDE, ELEVATION, AWND, CDSD, CLDD, DP01, DP10, DP1X...\n",
      "lgl  (3): DYFG_ATTRIBUTES, DYHF_ATTRIBUTES, DYTS_ATTRIBUTES\n",
      "\n",
      "ℹ Use `spec()` to retrieve the full column specification for this data.\n",
      "ℹ Specify the column types or set `show_col_types = FALSE` to quiet this message."
     ]
    },
    {
     "output_type": "stream",
     "name": "stderr",
     "text": [
      "Rows: 321 Columns: 96\n",
      "── Column specification ────────────────────────────────────────────────────────\n",
      "Delimiter: \",\"\n",
      "chr (45): STATION, DATE, NAME, ADPT_ATTRIBUTES, ASLP_ATTRIBUTES, ASTP_ATTRIB...\n",
      "dbl (48): LATITUDE, LONGITUDE, ELEVATION, ADPT, ASLP, ASTP, AWBT, AWND, CDSD...\n",
      "lgl  (3): DYFG_ATTRIBUTES, DYHF_ATTRIBUTES, DYTS_ATTRIBUTES\n",
      "\n",
      "ℹ Use `spec()` to retrieve the full column specification for this data.\n",
      "ℹ Specify the column types or set `show_col_types = FALSE` to quiet this message."
     ]
    },
    {
     "output_type": "stream",
     "name": "stderr",
     "text": [
      "Rows: 344 Columns: 88\n",
      "── Column specification ────────────────────────────────────────────────────────\n",
      "Delimiter: \",\"\n",
      "chr (41): STATION, DATE, NAME, CLDD_ATTRIBUTES, DP01_ATTRIBUTES, DP10_ATTRIB...\n",
      "dbl (45): LATITUDE, LONGITUDE, ELEVATION, CDSD, CDSD_ATTRIBUTES, CLDD, DP01,...\n",
      "lgl  (2): DYFG_ATTRIBUTES, DYTS_ATTRIBUTES\n",
      "\n",
      "ℹ Use `spec()` to retrieve the full column specification for this data.\n",
      "ℹ Specify the column types or set `show_col_types = FALSE` to quiet this message."
     ]
    }
   ],
   "source": [
    "# Read in all climate data\n",
    "AZ_kingman <- read_csv(\"data/Climate Data/AZ-kingman-climate.csv\")"
   ],
   "id": "15b0bcf2-c346-432f-8074-c5713092482b"
  },
  {
   "cell_type": "markdown",
   "metadata": {},
   "source": [
    "1.  Building Seasons:"
   ],
   "id": "64906fd9-f059-4211-bfcb-5358891467a1"
  },
  {
   "cell_type": "code",
   "execution_count": null,
   "metadata": {},
   "outputs": [],
   "source": [
    "# Changing into month and year\n",
    "climate_data <- climate_data %>%\n",
    "  mutate(\n",
    "    DATE = paste0(DATE, \"-01\"), # Adding a day component since it was missing!\n",
    "    DATE = as.Date(DATE, format = \"%Y-%m-%d\"),\n",
    "    year = year(DATE),\n",
    "    month = month(DATE)\n",
    "  )\n",
    "\n",
    "\n",
    "# Creating seasons:\n",
    "climate_data <- climate_data %>%\n",
    "  mutate(\n",
    "    season = case_when(\n",
    "      month %in% c(12, 1, 2)  ~ \"Winter\",\n",
    "      month %in% c(3, 4, 5)   ~ \"Spring\",\n",
    "      month %in% c(6, 7, 8)   ~ \"Summer\",\n",
    "      month %in% c(9, 10, 11) ~ \"Fall\"\n",
    "    ))\n",
    "\n",
    "\n",
    "# Creating seasons with the year to compare for climate\n",
    "climate_data <- climate_data %>%\n",
    "  mutate(\n",
    "    season_year = if_else(month == 12, year + 1, year)\n",
    "  )\n",
    "\n",
    "\n",
    "#Separating temp and precp to clean further!\n",
    "avg_temp <- climate_data %>%\n",
    "  mutate(TAVG_F = (TAVG * 9/5) + 32) %>%\n",
    "  group_by(STATION, NAME, month, season, season_year) %>%\n",
    "  summarize(avg_temp = mean(TAVG_F, na.rm = TRUE), .groups = \"drop\") %>%\n",
    "  filter(season_year >= 2000, season_year <= 2024)\n",
    "\n",
    "avg_prec <- climate_data %>%\n",
    "  group_by(STATION, NAME, month, season, season_year)%>%\n",
    "  summarize(avg_prec = mean(PRCP, na.rm = TRUE), .groups = \"drop\") %>%\n",
    "  filter(season_year >= 2000, season_year <= 2024)"
   ],
   "id": "f504bf38-7f79-4c7d-8ae2-e7b26e4b5db0"
  },
  {
   "cell_type": "markdown",
   "metadata": {},
   "source": [
    "1.  Understanding the changes of average temperature and precipitation in a U.S. map!\n",
    "\n",
    "<!-- -->\n",
    "\n",
    "1.  Temperature Difference between 2000 - 2024 based on seasonality\n",
    "\n",
    "The seasonal average temperature varies respectively within each recorded season showing similarities between Fall and Winter temperatures and Spring and Summer temperatures for all nine weather stations (Fig. 1)."
   ],
   "id": "993b2405-c82b-41ff-8d14-b6bf801e39e5"
  },
  {
   "cell_type": "code",
   "execution_count": null,
   "metadata": {
    "layout-align": "center"
   },
   "outputs": [
    {
     "output_type": "display_data",
     "metadata": {},
     "data": {}
    }
   ],
   "source": [
    "#TEMPERATURE!!!\n",
    "\n",
    "#creating a separte coordination dataframe\n",
    "station_coords <- climate_data %>%\n",
    "  select(STATION, LATITUDE, LONGITUDE) %>%\n",
    "  distinct()\n",
    "\n",
    "#joining the two to relay to the map\n",
    "avg_temp_map <- avg_temp %>%\n",
    "  left_join(station_coords, by = \"STATION\")\n",
    "\n",
    "#loading the u.s. map raster file!\n",
    "us_map <- map_data(\"state\")\n",
    "\n",
    "#Creating map of avg temperature for Selected stations based on seasonality!\n",
    "\n",
    "ggplot(avg_temp_map %>% filter(season_year >= 2000 & season_year <= 2024)) +\n",
    "  geom_polygon(data = us_map, aes(x = long, y = lat, group = group),\n",
    "               fill = \"gray90\", color = \"white\") +\n",
    "  geom_point(aes(x = LONGITUDE, y = LATITUDE, color = avg_temp), size = 2) +\n",
    "  scale_color_viridis_c(option = \"plasma\", name = \"Avg Temp (°F)\") +\n",
    "  coord_fixed(1.3) +\n",
    "  facet_wrap(~season) +\n",
    "  labs(title = \"Seasonal Average Temperatures by Station (2000–2024)\",\n",
    "       x = \"\", y = \"\") +\n",
    "  theme_minimal()"
   ],
   "id": "d94f20d5-6738-400c-b255-c527bc165caf"
  },
  {
   "cell_type": "markdown",
   "metadata": {},
   "source": [
    "All seasons but Spring showed several degree increase in average temperature from 2000 to 2024 (Fig. 2)."
   ],
   "id": "d18b8a8b-5761-44ae-b32d-1f562813c91a"
  },
  {
   "cell_type": "code",
   "execution_count": null,
   "metadata": {
    "layout-align": "center"
   },
   "outputs": [],
   "source": [
    "# Let's compare first just what 2000 vs 2024 looks like!\n",
    "\n",
    "# separating 2000 and 2024\n",
    "\n",
    "avg_temp_2000 <- avg_temp_map %>% filter(season_year == 2000)\n",
    "avg_temp_2024 <- avg_temp_map %>% filter(season_year == 2024)\n",
    "\n",
    "# Create the ggplot for 2000\n",
    "temp_2000 <- ggplot(avg_temp_2000) +\n",
    "  geom_polygon(data = us_map, aes(x = long, y = lat, group = group),\n",
    "               fill = \"gray90\", color = \"white\") +\n",
    "  geom_point(aes(x = LONGITUDE, y = LATITUDE, color = avg_temp), size = 2) +\n",
    "  scale_color_viridis_c(option = \"plasma\", name = \"Avg. Temp. (°F)\") +\n",
    "  coord_fixed(1.3) +\n",
    "  facet_wrap(~season) +\n",
    "  labs(title = \"Seasonal Average Temperatures (2000)\",\n",
    "       x = \"\",\n",
    "       y = \"\")+\n",
    "  theme_minimal()"
   ],
   "id": "66510d14-6f3a-42ea-af68-1a8375902620"
  },
  {
   "cell_type": "code",
   "execution_count": null,
   "metadata": {
    "layout-align": "center"
   },
   "outputs": [],
   "source": [
    "# Create the ggplot for 2024\n",
    "temp_2024 <- ggplot(avg_temp_2024) +\n",
    "  geom_polygon(data = us_map, aes(x = long, y = lat, group = group),\n",
    "               fill = \"gray90\", color = \"white\") +\n",
    "  geom_point(aes(x = LONGITUDE, y = LATITUDE, color = avg_temp), size = 2) +\n",
    "  scale_color_viridis_c(option = \"plasma\", name = \"Avg. Temp. (°F)\") +\n",
    "  coord_fixed(1.3) +\n",
    "  facet_wrap(~season) +\n",
    "  labs(title = \"Seasonal Average Temperatures (2024)\",\n",
    "       x = \"\", y = \"\") +\n",
    "  theme_minimal()"
   ],
   "id": "b2a98cf1-272e-47fb-986d-c9e1048bbcd3"
  },
  {
   "cell_type": "code",
   "execution_count": null,
   "metadata": {
    "layout-align": "center"
   },
   "outputs": [
    {
     "output_type": "stream",
     "name": "stderr",
     "text": [
      "Warning in as_grob.default(plot): Cannot convert object of class numeric into a\n",
      "grob."
     ]
    },
    {
     "output_type": "stream",
     "name": "stderr",
     "text": [
      "Warning: Graphs cannot be vertically aligned unless the axis parameter is set.\n",
      "Placing graphs unaligned."
     ]
    },
    {
     "output_type": "display_data",
     "metadata": {},
     "data": {}
    }
   ],
   "source": [
    "# Arrange them to be side by side!\n",
    "\n",
    "plot_grid(temp_2000, temp_2024, labels=c(\"\", \"\"), ncol = 1, nrow = 2, widths = c(1), align = \"v\")"
   ],
   "id": "dc2676e1-c9f2-41ca-980c-7819687ca9bb"
  },
  {
   "cell_type": "markdown",
   "metadata": {},
   "source": [
    "1.  Precipitation Difference between 2000 - 2024 based on seasonality\n",
    "\n",
    "The precipitation average that is experienced between 2000-2024 for all nine weather stations have no stark difference in patterns across all four seasons (Fig. 3), although it is slightly wetter across the western coast weather stations."
   ],
   "id": "4d2921eb-6d35-48c4-95c4-38eef13ae75f"
  },
  {
   "cell_type": "code",
   "execution_count": null,
   "metadata": {
    "layout-align": "center"
   },
   "outputs": [
    {
     "output_type": "display_data",
     "metadata": {},
     "data": {}
    }
   ],
   "source": [
    "#PRECIPITATION!!!\n",
    "\n",
    "#joining the two to relay to the map\n",
    "avg_prec_map <- avg_prec %>%\n",
    "  left_join(station_coords, by = \"STATION\")\n",
    "\n",
    "#Creating map of avg precipitation for Selected stations based on seasonality!\n",
    "\n",
    "ggplot(avg_prec_map %>% filter(season_year >= 2000 & season_year <= 2024)) +\n",
    "  geom_polygon(data = us_map, aes(x = long, y = lat, group = group),\n",
    "               fill = \"gray90\", color = \"white\") +\n",
    "  geom_point(data = avg_prec_map %>%\n",
    "               filter(season_year >= 2000 & season_year <= 2024),\n",
    "             aes(x = LONGITUDE, y = LATITUDE, color = avg_prec), size = 2) +\n",
    "  scale_color_viridis_c(option = \"plasma\", name = \"Avg. Prec. (100 μm)\") +\n",
    "  coord_fixed(1.3) +\n",
    "  facet_wrap(~season) +\n",
    "  labs(title = \"Seasonal Average Precipitation by Station (2000–2024)\",\n",
    "       x = \"\", y = \"\") +\n",
    "  theme_minimal()"
   ],
   "id": "cb979d32-b08d-4800-ae36-2d621dd1d0ff"
  },
  {
   "cell_type": "markdown",
   "metadata": {},
   "source": [
    "Precipitation in the all four seasons, Winter, Spring, Summer, and Fall, has dramatically increased from 2000 to 2024, in the nine respective weather stations (Fig. 4)."
   ],
   "id": "ec7da568-9102-4bd8-af8c-ea52c6e6fa92"
  },
  {
   "cell_type": "code",
   "execution_count": null,
   "metadata": {
    "layout-align": "center"
   },
   "outputs": [],
   "source": [
    "# Let's compare first just what 2000 vs 2024 looks like!\n",
    "\n",
    "# separating 2000 and 2024\n",
    "\n",
    "avg_prec_2000 <- avg_prec_map %>% filter(season_year == 2000)\n",
    "avg_prec_2024 <- avg_prec_map %>% filter(season_year == 2024)\n",
    "\n",
    "# Create the ggplot for 2000\n",
    "prec_2000 <- ggplot(avg_prec_2000) +\n",
    "  geom_polygon(data = us_map, aes(x = long, y = lat, group = group),\n",
    "               fill = \"gray90\", color = \"white\") +\n",
    "  geom_point(aes(x = LONGITUDE, y = LATITUDE, color = avg_prec), size = 2) +\n",
    "  scale_color_viridis_c(option = \"plasma\", name = \"Avg. Prec. (100 μm)\") +\n",
    "  coord_fixed(1.3) +\n",
    "  facet_wrap(~season) +\n",
    "  labs(title = \"Seasonal Average Precipitation (2000)\",\n",
    "       x = \"\", y = \"\") +\n",
    "  theme_minimal()"
   ],
   "id": "958683b2-9477-4d36-a92a-c9139a3424ef"
  },
  {
   "cell_type": "code",
   "execution_count": null,
   "metadata": {
    "layout-align": "center"
   },
   "outputs": [],
   "source": [
    "# Create the ggplot for 2024\n",
    "prec_2024 <- ggplot(avg_prec_2024) +\n",
    "  geom_polygon(data = us_map, aes(x = long, y = lat, group = group),\n",
    "               fill = \"gray90\", color = \"white\") +\n",
    "  geom_point(aes(x = LONGITUDE, y = LATITUDE, color = avg_prec), size = 2) +\n",
    "  scale_color_viridis_c(option = \"plasma\", name = \"Avg. Prec. (100 μm)\") +\n",
    "  coord_fixed(1.3) +\n",
    "  facet_wrap(~season) +\n",
    "  labs(title = \"Seasonal Average Precipitation (2024)\",\n",
    "       x = \"\", y = \"\") +\n",
    "  theme_minimal()"
   ],
   "id": "0013247e-5511-43a6-9376-c330ab7b4a3f"
  },
  {
   "cell_type": "code",
   "execution_count": null,
   "metadata": {
    "layout-align": "center"
   },
   "outputs": [
    {
     "output_type": "stream",
     "name": "stderr",
     "text": [
      "Warning in as_grob.default(plot): Cannot convert object of class numeric into a\n",
      "grob."
     ]
    },
    {
     "output_type": "stream",
     "name": "stderr",
     "text": [
      "Warning: Graphs cannot be vertically aligned unless the axis parameter is set.\n",
      "Placing graphs unaligned."
     ]
    },
    {
     "output_type": "display_data",
     "metadata": {},
     "data": {}
    }
   ],
   "source": [
    "# Arrange them to be side by side!\n",
    "\n",
    "plot_grid(prec_2000, prec_2024, labels=c(\"\", \"\"), ncol = 1, nrow = 2, widths = c(1), align = \"v\")"
   ],
   "id": "f848e07d-836c-420e-b6a4-bc7f87ce0928"
  },
  {
   "cell_type": "markdown",
   "metadata": {},
   "source": [
    "1.  Bird migration pattern time!\n",
    "\n",
    "Based on eBird data, we are focusing in the Western Pacific region of the U.S. (Arizona, California, Oregon, and Washington). Based on the eBird data set variables for understanding migratory codes:"
   ],
   "id": "d16ba915-2448-496b-99a5-f111cb7847d8"
  },
  {
   "cell_type": "code",
   "execution_count": null,
   "metadata": {},
   "outputs": [
    {
     "output_type": "stream",
     "name": "stderr",
     "text": [
      "New names:\n",
      "• `` -> `...22`\n",
      "• `` -> `...23`\n",
      "• `` -> `...24`\n",
      "• `` -> `...25`\n",
      "• `` -> `...26`\n",
      "• `` -> `...27`\n",
      "• `` -> `...28`\n",
      "• `` -> `...29`\n",
      "• `` -> `...30`\n",
      "• `` -> `...31`\n",
      "• `` -> `...32`\n",
      "• `` -> `...33`\n",
      "• `` -> `...34`\n",
      "• `` -> `...35`\n",
      "• `` -> `...36`\n",
      "• `` -> `...37`\n",
      "• `` -> `...38`\n",
      "• `` -> `...39`\n",
      "• `` -> `...40`\n",
      "• `` -> `...41`\n",
      "• `` -> `...42`\n",
      "• `` -> `...43`\n",
      "• `` -> `...44`\n",
      "• `` -> `...45`\n",
      "• `` -> `...46`\n",
      "• `` -> `...47`\n",
      "• `` -> `...48`\n",
      "• `` -> `...49`\n",
      "• `` -> `...50`\n",
      "• `` -> `...51`\n",
      "• `` -> `...52`\n",
      "• `` -> `...53`\n",
      "• `` -> `...54`\n",
      "• `` -> `...55`"
     ]
    },
    {
     "output_type": "stream",
     "name": "stderr",
     "text": [
      "Warning: One or more parsing issues, call `problems()` on your data frame for details,\n",
      "e.g.:\n",
      "  dat <- vroom(...)\n",
      "  problems(dat)"
     ]
    },
    {
     "output_type": "stream",
     "name": "stderr",
     "text": [
      "Rows: 70649 Columns: 55\n",
      "── Column specification ────────────────────────────────────────────────────────\n",
      "Delimiter: \",\"\n",
      "chr  (20): OBSERVATION DATE, OBSERVATION COUNT, BREEDING CODE, BREEDING CATE...\n",
      "dbl   (4): BCR CODE, LATITUDE, LONGITUDE, NUMBER OBSERVERS\n",
      "lgl  (30): AGE/SEX, ...22, ...28, ...29, ...30, ...31, ...32, ...33, ...34, ...\n",
      "time  (1): TIME OBSERVATIONS STARTED\n",
      "\n",
      "ℹ Use `spec()` to retrieve the full column specification for this data.\n",
      "ℹ Specify the column types or set `show_col_types = FALSE` to quiet this message."
     ]
    }
   ],
   "source": [
    "# read in bird data:\n",
    "\n",
    "amebit_data <- read_csv(\"data/AB Data/amebit_data.csv\")"
   ],
   "id": "74da1950-894a-457d-996e-597e1840dfaf"
  },
  {
   "cell_type": "code",
   "execution_count": null,
   "metadata": {
    "layout-align": "center"
   },
   "outputs": [
    {
     "output_type": "display_data",
     "metadata": {},
     "data": {}
    }
   ],
   "source": [
    "ggplot(amebit_monthly, aes(x = state_abb, y = observations, fill = state_abb)) +\n",
    "  geom_boxplot() +\n",
    "  scale_fill_brewer(palette = \"Set3\",\n",
    "                    name = \"State Name\",\n",
    "                    labels = c(\"AZ\" = \"Arizona\",\n",
    "                               \"CA\" = \"California\",\n",
    "                               \"OR\" = \"Oregon\",\n",
    "                               \"WA\" = \"Washington\")) +\n",
    "  labs(title = \"Distribution of eBird Bittern Observations by State from 2000 - 2024\",\n",
    "       x = \"State\",\n",
    "       y = \"Observation Count\") +\n",
    "  theme_minimal()"
   ],
   "id": "cf9b921b-750d-417b-96f7-ede43ea9190a"
  },
  {
   "cell_type": "code",
   "execution_count": null,
   "metadata": {
    "layout-align": "center"
   },
   "outputs": [
    {
     "output_type": "display_data",
     "metadata": {},
     "data": {}
    }
   ],
   "source": [
    "# Visualize time:\n",
    "\n",
    "\n",
    "amebit_monthly %>%\n",
    "  filter(state_abb %in% c(\"CA\", \"AZ\", \"WA\", \"OR\")) %>%\n",
    "  ggplot(aes(x = month, y = observations, group = year, color = as.factor(year))) +\n",
    "  geom_line(alpha = 0.5) +\n",
    "  facet_wrap(~ state_abb, ncol = 2) +\n",
    "  labs(\n",
    "    title = \"Seasonal Observation Trends of American Bittern (2000–2024)\",\n",
    "    x = \"Month\",\n",
    "    y = \"Number of Observations\",\n",
    "    color = \"Year\"\n",
    "  ) +\n",
    "  theme_minimal() +\n",
    "  theme(\n",
    "    axis.text.x = element_text(angle = 45, hjust = 1),\n",
    "    strip.text = element_text(face = \"bold\")\n",
    "  )"
   ],
   "id": "577ee57e-8997-41bb-b808-069744c461be"
  },
  {
   "cell_type": "markdown",
   "metadata": {},
   "source": [
    "1.  Looking at seasonal changes over time"
   ],
   "id": "4e14e613-4f4c-40d3-92d9-3545dc065b68"
  },
  {
   "cell_type": "code",
   "execution_count": null,
   "metadata": {
    "layout-align": "center"
   },
   "outputs": [
    {
     "output_type": "display_data",
     "metadata": {},
     "data": {}
    }
   ],
   "source": [
    "annual_summary <- climate_data %>%\n",
    "  mutate(\n",
    "    TAVG_F = (TAVG * 9/5) + 32,\n",
    "    PRCP_mm = PRCP / 10,\n",
    "    state_abb = str_extract(NAME, \"[A-Z]{2}(?=\\\\sUS)\")\n",
    "  ) %>%\n",
    "  filter(state_abb %in% c(\"AZ\", \"OR\", \"WA\", \"CA\")) %>%\n",
    "  group_by(season_year, season, state_abb) %>%\n",
    "  summarize(\n",
    "    avg_temp = mean(TAVG_F, na.rm = TRUE),\n",
    "    avg_precp = mean(PRCP_mm, na.rm = TRUE),\n",
    "    .groups = \"drop\"\n",
    "  ) %>%\n",
    "  filter(season_year >= 2000, season_year <= 2024)\n",
    "\n",
    "# Reshaping to make plotting easier to understand shifts in Temp and Precip!\n",
    "\n",
    "long_annual <- annual_summary %>%\n",
    "  pivot_longer(cols = c(avg_temp, avg_precp),\n",
    "               names_to = \"variable\", values_to = \"value\")\n",
    "\n",
    "\n",
    "# Plotting:\n",
    "\n",
    "ggplot(long_annual, aes(x = season_year, y = value, color = season)) +\n",
    "  geom_line(linewidth = 1) +\n",
    "  facet_grid(variable ~ state_abb, scales = \"free_y\",\n",
    "             labeller = labeller(variable = c(\n",
    "               avg_temp = \"Avg Temp (°F)\",\n",
    "               avg_precp = \"Avg Precip (mm)\"\n",
    "             ))) +\n",
    "  theme(panel.spacing = unit(1.2, \"lines\")) +\n",
    "  scale_x_continuous(breaks = seq(2000, 2024, by = 4)) +\n",
    "  theme_minimal() +\n",
    "  theme(\n",
    "    axis.text.x = element_text(angle = 45, hjust = 1)\n",
    "  ) +\n",
    "  labs(\n",
    "    title = \"Seasonal Climate Variation by State (2000–2024)\",\n",
    "    x = \"Year\", y = NULL, color = \"Season\"\n",
    "  ) +\n",
    "  scale_color_brewer(palette = \"Set1\")"
   ],
   "id": "cc0ee2a3-e360-4e4b-aa2c-1d6b6136d414"
  },
  {
   "cell_type": "markdown",
   "metadata": {},
   "source": [
    "1.  Let’s combine them to see if there is a difference!\n",
    "\n",
    "The correlation graph displays the relationship between average seasonal temperature (°F) and the number of Bittern observations, with separate linear trends plotted for each season. The visualized data reveals distinct seasonal patterns in both temperature and observation count (Fig. 7). Each point representing the yearly average temperature and respective count of American Bitterns."
   ],
   "id": "638f9b1f-df44-4ddb-b924-fd534c707d14"
  },
  {
   "cell_type": "code",
   "execution_count": null,
   "metadata": {},
   "outputs": [],
   "source": [
    "# Relationship between climate and bittern evolving together!\n",
    "amebit_seasonal <- amebit_data %>%\n",
    "  mutate(\n",
    "    ob_date = mdy(`OBSERVATION DATE`),\n",
    "    year = year(ob_date),\n",
    "    month = month(ob_date),\n",
    "    season = case_when(\n",
    "      month %in% c(12, 1, 2) ~ \"Winter\",\n",
    "      month %in% c(3, 4, 5) ~ \"Spring\",\n",
    "      month %in% c(6, 7, 8) ~ \"Summer\",\n",
    "      month %in% c(9, 10, 11) ~ \"Fall\"\n",
    "    ),\n",
    "    season_year = if_else(month == 12, year + 1, year),\n",
    "    state_abb = state.abb[match(STATE, state.name)]\n",
    "  ) %>%\n",
    "  filter(state_abb %in% c(\"CA\", \"AZ\", \"WA\", \"OR\")) %>%\n",
    "  group_by(season_year, season, state_abb) %>%\n",
    "  summarize(observations = n(), .groups = \"drop\") %>%\n",
    "  filter(season_year >= 2000, season_year <= 2024)\n",
    "\n",
    "# Combining all data sets made so far:\n",
    "combined_data <- left_join(amebit_seasonal, annual_summary,\n",
    "                           by = c(\"season_year\", \"season\", \"state_abb\"))\n",
    "\n",
    "combined_long <- combined_data %>%\n",
    "  pivot_longer(cols = c(avg_temp, avg_precp),\n",
    "               names_to = \"variable\", values_to = \"value\")"
   ],
   "id": "62cb3c72-55b9-426d-aaf4-f1fc7450bd21"
  },
  {
   "cell_type": "code",
   "execution_count": null,
   "metadata": {
    "layout-align": "center"
   },
   "outputs": [
    {
     "output_type": "display_data",
     "metadata": {},
     "data": {}
    }
   ],
   "source": [
    "ggplot(combined_long %>% filter(variable == \"avg_temp\"), \n",
    "       aes(x = value, y = observations, color = season)) +\n",
    "  geom_point(alpha = 0.7) +\n",
    "  geom_text(data = combined_long %>%\n",
    "              filter(variable == \"avg_temp\", season_year %in% c(2000, 2024)),\n",
    "            aes(label = season_year),\n",
    "            vjust = -0.5, size = 3, show.legend = FALSE) +\n",
    "  facet_wrap(~ state_abb, scales = \"free_x\") +\n",
    "  labs(\n",
    "    title = \"Seasonal Average Temperature and American Bittern Observations\",\n",
    "    x = \"Average Temperature (°F)\",\n",
    "    y = \"Number of Observations\",\n",
    "    color = \"Season\"\n",
    "  ) +\n",
    "  theme_minimal() +\n",
    "  theme(\n",
    "    axis.text.x = element_text(angle = 0, hjust = 1),\n",
    "    strip.text = element_text(size = 12),\n",
    "    legend.position = \"bottom\"\n",
    "  ) +\n",
    "  scale_color_brewer(palette = \"Set1\")"
   ],
   "id": "4c12b8a0-13a3-4a34-97b5-03373404a2e7"
  },
  {
   "cell_type": "markdown",
   "metadata": {},
   "source": [
    "The correlation graph displays the relationship between average seasonal precipitation (mm) and the number of Bittern observations, with separate linear trends plotted for each season. The visualized data reveals distinct seasonal patterns in both precipitation and observation count (Fig. 8). Each point representing the yearly average precipitation and respective count of American Bitterns."
   ],
   "id": "89b94e8f-90e1-4bef-93d0-5f1e1c313128"
  },
  {
   "cell_type": "code",
   "execution_count": null,
   "metadata": {
    "layout-align": "center"
   },
   "outputs": [
    {
     "output_type": "display_data",
     "metadata": {},
     "data": {}
    }
   ],
   "source": [
    "# Visualize precipitation seasonality and bittern data:\n",
    "\n",
    "ggplot(combined_long %>% filter(variable == \"avg_precp\"), \n",
    "       aes(x = value, y = observations, color = season)) +\n",
    "  geom_point(alpha = 0.7) +\n",
    "  geom_text(data = combined_long %>%\n",
    "              filter(variable == \"avg_precp\", season_year %in% c(2000, 2024)),\n",
    "            aes(label = season_year),\n",
    "            vjust = -0.5, size = 3, show.legend = FALSE) +\n",
    "  facet_wrap(~ state_abb, scales = \"free_x\") +\n",
    "  labs(\n",
    "    title = \"Seasonal Average Precipitation and American Bittern Observations\",\n",
    "    x = \"Average Precipitation (mm)\",\n",
    "    y = \"Number of Observations\",\n",
    "    color = \"Season\"\n",
    "  ) +\n",
    "  theme_minimal() +\n",
    "  theme(\n",
    "    axis.text.x = element_text(angle = 0, hjust = 1),\n",
    "    strip.text = element_text(size = 12),\n",
    "    legend.position = \"bottom\"\n",
    "  ) +\n",
    "  scale_color_brewer(palette = \"Set1\")"
   ],
   "id": "79126168-8320-4d7b-a26f-b8d9cdb399ea"
  },
  {
   "cell_type": "markdown",
   "metadata": {},
   "source": [
    "During Winter, average temperatures ranged from approximately 37°F to 47°F, with Bittern observations generally below 1,000 (Fig. 7). A slight positive trend was noted, suggesting a weak relationship between increasing temperature and higher observations (Fig. 9). In Spring, temperatures were around 50°F to 58°F (Fig. 7). Although this season had the highest overall number of Bittern observations—with some counts exceeding 2,000—there was a slight negative trend in the linear fit, indicating that the number of Bittern observations tended to decrease slightly with increasing temperature (Fig. 9). Fall showed a moderate positive trend, with observations increasing alongside temperatures ranging from 52°F to 59°F (Fig. 7). However, overall observations remained lower compared to Spring and Summer (Fig. 7). Summer displayed the strongest positive trend. As temperatures increased from 67°F to 74°F, Bittern observations increased significantly (Fig. 9). This season also showed more consistent and clustered high observations, suggesting a stronger relationship between higher temperatures and increased presence of Bitterns (Fig. 9).\n",
    "\n",
    "##### **ANOVA Tests:**\n",
    "\n",
    "ANOVA Meanings: Most of the variation in American Bittern observations is explained by year (Fig. 7, F = 14.3678, p = \\<0.001) and state (Fig. 7, F = 59.0684, p = \\<0.001), not directly by average temperature (Fig. 8, F = 2.3702, p = 0.1247) or precipitation (Fig. 9, F = 0.1157, p = 0.7340), rejecting our hypothesis and accepting our null hypothesis. Climate variables (avg. temperature and precipitation) and time of the year has no significant interaction, meaning that the relationship between climate variance and bittern observations appears stable over time within Arizona, California, Oregon, and Washington between 2000 and 2024 (Fig. 10, p = 0.984)."
   ],
   "id": "0d326743-0f02-4b16-972f-cf14bbaf6b1f"
  },
  {
   "cell_type": "code",
   "execution_count": null,
   "metadata": {},
   "outputs": [
    {
     "output_type": "stream",
     "name": "stderr",
     "text": [
      "Warning: package 'car' was built under R version 4.4.3"
     ]
    },
    {
     "output_type": "stream",
     "name": "stderr",
     "text": [
      "Loading required package: carData"
     ]
    },
    {
     "output_type": "stream",
     "name": "stderr",
     "text": [
      "Warning: package 'carData' was built under R version 4.4.3"
     ]
    },
    {
     "output_type": "stream",
     "name": "stderr",
     "text": [
      "\n",
      "Attaching package: 'car'"
     ]
    },
    {
     "output_type": "stream",
     "name": "stderr",
     "text": [
      "The following object is masked from 'package:dplyr':\n",
      "\n",
      "    recode"
     ]
    },
    {
     "output_type": "stream",
     "name": "stderr",
     "text": [
      "The following object is masked from 'package:purrr':\n",
      "\n",
      "    some"
     ]
    },
    {
     "output_type": "stream",
     "name": "stdout",
     "text": [
      "Anova Table (Type II tests)\n",
      "\n",
      "Response: observations\n",
      "                       Sum Sq  Df F value Pr(>F)    \n",
      "avg_temp                45597   1  2.3702 0.1247    \n",
      "season_year           6633544  24 14.3678 <2e-16 ***\n",
      "avg_precp                2225   1  0.1157 0.7340    \n",
      "state_abb             3408960   3 59.0684 <2e-16 ***\n",
      "avg_temp:season_year   219475  24  0.4754 0.9840    \n",
      "season_year:avg_precp  371196  24  0.8040 0.7315    \n",
      "Residuals             5732734 298                   \n",
      "---\n",
      "Signif. codes:  0 '***' 0.001 '**' 0.01 '*' 0.05 '.' 0.1 ' ' 1"
     ]
    },
    {
     "output_type": "stream",
     "name": "stderr",
     "text": [
      "Warning: package 'lme4' was built under R version 4.4.3"
     ]
    },
    {
     "output_type": "stream",
     "name": "stderr",
     "text": [
      "Loading required package: Matrix"
     ]
    },
    {
     "output_type": "stream",
     "name": "stderr",
     "text": [
      "\n",
      "Attaching package: 'Matrix'"
     ]
    },
    {
     "output_type": "stream",
     "name": "stderr",
     "text": [
      "The following objects are masked from 'package:tidyr':\n",
      "\n",
      "    expand, pack, unpack"
     ]
    },
    {
     "output_type": "stream",
     "name": "stdout",
     "text": [
      "Linear mixed model fit by REML ['lmerMod']\n",
      "Formula: observations ~ avg_temp + avg_precp + (1 | season_year) + (1 |  \n",
      "    state_abb)\n",
      "   Data: combined_data\n",
      "\n",
      "REML criterion at convergence: 4815.1\n",
      "\n",
      "Scaled residuals: \n",
      "    Min      1Q  Median      3Q     Max \n",
      "-2.2167 -0.6062 -0.1211  0.4991  4.4588 \n",
      "\n",
      "Random effects:\n",
      " Groups      Name        Variance Std.Dev.\n",
      " season_year (Intercept) 17451    132.1   \n",
      " state_abb   (Intercept) 14941    122.2   \n",
      " Residual                17908    133.8   \n",
      "Number of obs: 376, groups:  season_year, 25; state_abb, 4\n",
      "\n",
      "Fixed effects:\n",
      "            Estimate Std. Error t value\n",
      "(Intercept)  81.1051    85.1900   0.952\n",
      "avg_temp      1.4967     0.8374   1.787\n",
      "avg_precp    -0.7658     2.3499  -0.326\n",
      "\n",
      "Correlation of Fixed Effects:\n",
      "          (Intr) avg_tm\n",
      "avg_temp  -0.611       \n",
      "avg_precp -0.462  0.635"
     ]
    }
   ],
   "source": [
    "# 1. creating a linear model test\n",
    "combined_data$season_year <- as.factor(combined_data$season_year)\n",
    "combined_data$state_abb <- as.factor(combined_data$state_abb)\n",
    "\n",
    "\n",
    "lm_mod <- lm(observations ~ avg_temp * season_year + avg_precp * season_year + state_abb, data = combined_data)\n",
    "\n",
    "library(car)"
   ],
   "id": "622ffde8-ff79-489d-b97f-191b4df99f7e"
  },
  {
   "cell_type": "markdown",
   "metadata": {},
   "source": [
    "Mixed and Random Effects Meaning:\n",
    "\n",
    "The effect of average temperature is weak but possibly meaningful. Bitterns are observed slightly more in warmer years (Fig. 11 & 12), but this is insignificant, indicating the sample size might be too small to make this assessment concrete (Fig. 10, t = 1.79). Precipitation has no notable effect (Fig. 9, t = -0.33). Most of the variation is still explained by year and state-level random effects, reinforcing the ANOVA results (Fig. 13, \\[1\\] year variance = 17451, \\[2\\] state variance = 14941). Based on these results, we can interpret that we are more likely to observe bitterns in recent years, due to the eBird application on phones becoming more accessible for those interested in reporting and finding birds in their local area."
   ],
   "id": "68cc6291-c72d-47f6-af49-245ee21741c3"
  },
  {
   "cell_type": "code",
   "execution_count": null,
   "metadata": {
    "layout-align": "center"
   },
   "outputs": [
    {
     "output_type": "stream",
     "name": "stderr",
     "text": [
      "`geom_smooth()` using formula = 'y ~ x'"
     ]
    },
    {
     "output_type": "display_data",
     "metadata": {},
     "data": {}
    }
   ],
   "source": [
    "ggplot(combined_data, aes(x = avg_temp, y = observations)) +\n",
    "  geom_point(alpha = 0.4) +\n",
    "  geom_smooth(method = \"lm\", se = TRUE, color = \"steelblue1\") +\n",
    "  labs(\n",
    "    title = \"Effect of Average Temperature on Bittern Observations\",\n",
    "    x = \"Average Temperature (°F)\",\n",
    "    y = \"American Bittern Observations\"\n",
    "  ) +\n",
    "  theme_minimal()"
   ],
   "id": "a82e6fc7-7a22-4ad3-87b4-3411b92e33ea"
  },
  {
   "cell_type": "code",
   "execution_count": null,
   "metadata": {
    "layout-align": "center"
   },
   "outputs": [
    {
     "output_type": "display_data",
     "metadata": {},
     "data": {}
    }
   ],
   "source": [
    "ggplot(combined_data, aes(x = factor(season_year), y = observations)) +\n",
    "  geom_boxplot(fill = \"dodgerblue\") +\n",
    "  labs(title = \"Distribution of Observations by Year\",\n",
    "       x = \"Year\",\n",
    "       y = \"Observations\") +\n",
    "  theme_minimal() +\n",
    "  theme(axis.text.x = element_text(angle = 35, hjust = 1))"
   ],
   "id": "134bb938-3ee8-416a-98ca-5b3622dd19ea"
  },
  {
   "cell_type": "code",
   "execution_count": null,
   "metadata": {
    "layout-align": "center"
   },
   "outputs": [
    {
     "output_type": "stream",
     "name": "stderr",
     "text": [
      "Warning: package 'ggeffects' was built under R version 4.4.3"
     ]
    },
    {
     "output_type": "stream",
     "name": "stderr",
     "text": [
      "\n",
      "Attaching package: 'ggeffects'"
     ]
    },
    {
     "output_type": "stream",
     "name": "stderr",
     "text": [
      "The following object is masked from 'package:cowplot':\n",
      "\n",
      "    get_title"
     ]
    },
    {
     "output_type": "display_data",
     "metadata": {},
     "data": {}
    }
   ],
   "source": [
    "library(ggeffects)"
   ],
   "id": "72059a5d-2079-490b-8331-de2e9572acdb"
  },
  {
   "cell_type": "code",
   "execution_count": null,
   "metadata": {
    "layout-align": "center"
   },
   "outputs": [
    {
     "output_type": "stream",
     "name": "stderr",
     "text": [
      "Warning: package 'sjPlot' was built under R version 4.4.3"
     ]
    },
    {
     "output_type": "stream",
     "name": "stderr",
     "text": [
      "\n",
      "Attaching package: 'sjPlot'"
     ]
    },
    {
     "output_type": "stream",
     "name": "stderr",
     "text": [
      "The following objects are masked from 'package:cowplot':\n",
      "\n",
      "    plot_grid, save_plot"
     ]
    },
    {
     "output_type": "stream",
     "name": "stderr",
     "text": [
      "Sorting each group of random effects ('sort.all') is not possible when 'facets = TRUE'."
     ]
    },
    {
     "output_type": "stream",
     "name": "stderr",
     "text": [
      "Sorting each group of random effects ('sort.all') is not possible when 'facets = TRUE'."
     ]
    },
    {
     "output_type": "stream",
     "name": "stdout",
     "text": [
      "[[1]]"
     ]
    },
    {
     "output_type": "display_data",
     "metadata": {},
     "data": {}
    },
    {
     "output_type": "stream",
     "name": "stdout",
     "text": [
      "\n",
      "[[2]]"
     ]
    },
    {
     "output_type": "display_data",
     "metadata": {},
     "data": {}
    }
   ],
   "source": [
    "library(sjPlot)"
   ],
   "id": "d1ebee4e-435c-4f58-ab70-8d82c870e185"
  },
  {
   "cell_type": "markdown",
   "metadata": {},
   "source": [
    "### **Discussion:**\n",
    "\n",
    "These results suggest that seasonal temperature plays a variable role in Bittern observations, likely reflecting differences in migratory behavior, breeding activity, and habitat use throughout the year.\n",
    "\n",
    "The strong positive trend in Summer may indicate that Bitterns are more active or easier to observe during warmer months, potentially due to breeding activity or greater availability of wetland habitats. Similarly, the positive trend in Fall could reflect pre-migration behavior or favorable foraging conditions as temperatures cool.\n",
    "\n",
    "The Spring season, despite having the highest individual observation counts, showed a slight negative trend. This may reflect a peak in migration or nesting activity occurring at lower spring temperatures, after which observations decline as temperatures rise.\n",
    "\n",
    "Winter observations were consistently low, which aligns with the species’ known migratory behavior—many populations leave colder regions during winter months. The weak positive correlation may suggest that in relatively milder winters, some individuals remain present or return earlier.\n",
    "\n",
    "Overall, this analysis underscores how temperature and seasonality can influence bird detection and presence. Continued research into these “changes in timing at continental scales” could give more insight into how data like this can be applied across species (Guiden 2019). Further investigation into habitat variables, precipitation, and food availability could clarify the mechanisms behind these seasonal patterns. While migratory birds have always been vulnerable to human-related dangers, additional understanding of climate risks is critical to aiding the survival of such species (Smithsonian 2024). Understanding these relationships is especially important in the context of climate change, which may shift seasonal temperature regimes and, in turn, influence Bittern migration and habitat use.\n",
    "\n",
    "### **References:**\n",
    "\n",
    "American bittern overview, all about birds, Cornell Lab of Ornithology. Overview, All About Birds, Cornell Lab of Ornithology. (n.d.). https://www.allaboutbirds.org/guide/American_Bittern/overview\n",
    "\n",
    "Dahl, T. E. (2011). Status and trends of wetlands in the conterminous United States 2004 to 2009. US Department of the Interior, US Fish and Wildlife Service, Fisheries and Habitat Conservation.\n",
    "\n",
    "eBird. (2025). eBird: An online database of bird distribution and abundance \\[web application\\]. eBird, Cornell Lab of Ornithology, Ithaca, New York. Available: http://www.ebird.org. (Accessed: April 16, 2025).\n",
    "\n",
    "La Sorte, F. A., & Thompson III, F. R. (2007). Poleward shifts in winter ranges of North American birds. Ecology, 88(7), 1803-1812.\n",
    "\n",
    "Steen, V., Powell, A. N. (2012). “Potential Effects of Climate Change on the Distribution of Waterbirds in the Prairie Pothole Region, U.S.A.,” Waterbirds, 35(2), 217-229. https://doi.org/10.1675/063.035.0204.\n",
    "\n",
    "Status and trends of wetlands in the conterminous United States 2004 to 2009. US Department of the Interior, US Fish and Wildlife Service, Fisheries and Habitat Conservation."
   ],
   "id": "a919d3e0-d138-4920-bdd2-5da65cdec5c6"
  }
 ],
 "nbformat": 4,
 "nbformat_minor": 5,
 "metadata": {}
}
